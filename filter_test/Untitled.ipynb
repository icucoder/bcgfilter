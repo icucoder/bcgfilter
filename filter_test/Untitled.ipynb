{
 "cells": [
  {
   "cell_type": "code",
   "execution_count": null,
   "id": "4069c13b-7bd6-472e-8ad3-b0883f9f2958",
   "metadata": {},
   "outputs": [],
   "source": [
    "import torch\n",
    "# weight = torch.tensor([1,1,1,1,1,23432,234,32,1,1,1,1])\n",
    "weight = torch.ones()\n"
   ]
  }
 ],
 "metadata": {
  "kernelspec": {
   "display_name": "Python 3 (ipykernel)",
   "language": "python",
   "name": "python3"
  },
  "language_info": {
   "codemirror_mode": {
    "name": "ipython",
    "version": 3
   },
   "file_extension": ".py",
   "mimetype": "text/x-python",
   "name": "python",
   "nbconvert_exporter": "python",
   "pygments_lexer": "ipython3",
   "version": "3.8.10"
  }
 },
 "nbformat": 4,
 "nbformat_minor": 5
}
