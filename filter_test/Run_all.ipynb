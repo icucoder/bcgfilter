{
 "cells": [
  {
   "cell_type": "code",
   "execution_count": 1,
   "id": "de4f3a1e-37b5-4471-859a-29952c61491a",
   "metadata": {
    "tags": []
   },
   "outputs": [
    {
     "name": "stdout",
     "output_type": "stream",
     "text": [
      "--------------掩码+对比学习-------------------\n"
     ]
    },
    {
     "name": "stderr",
     "output_type": "stream",
     "text": [
      "100%|██████████| 3000/3000 [04:13<00:00, 11.83it/s]\n"
     ]
    },
    {
     "name": "stdout",
     "output_type": "stream",
     "text": [
      "torch.Size([1140, 1, 600])\n",
      "torch.Size([1140, 1, 300])\n",
      "torch.Size([1140, 600])\n",
      "--------------度量学习-------------------\n",
      "features shape : torch.Size([1140, 600])\n"
     ]
    },
    {
     "name": "stderr",
     "output_type": "stream",
     "text": [
      "100%|██████████| 1000/1000 [08:27<00:00,  1.97it/s]\n"
     ]
    },
    {
     "name": "stdout",
     "output_type": "stream",
     "text": [
      "模型保存成功！\n",
      "度量学习结果形状： torch.Size([1140, 600])\n",
      "--------------指纹识别-------------------\n"
     ]
    },
    {
     "name": "stderr",
     "output_type": "stream",
     "text": [
      "100%|██████████| 1000/1000 [00:03<00:00, 259.98it/s]\n"
     ]
    },
    {
     "name": "stdout",
     "output_type": "stream",
     "text": [
      "模型保存成功！\n",
      "1140 / 1140\n",
      "tensor([20., 20., 20., 20., 20., 20., 20., 20., 20., 20., 20., 20., 20., 20.,\n",
      "        20., 20., 20., 20., 20., 20., 20., 20., 20., 20., 20., 20., 20., 20.,\n",
      "        20., 20., 20., 20., 20., 20., 20., 20., 20., 20., 20., 20., 20., 20.,\n",
      "        20., 20., 20., 20., 20., 20., 20., 20., 20., 20., 20., 20., 20., 20.,\n",
      "        20.])\n",
      "测试集结果：\n",
      "torch.Size([1710, 57])\n",
      "torch.Size([1710])\n",
      "模型读取成功！\n",
      "0 tensor(30.)\n",
      "1 tensor(30.)\n",
      "2 tensor(30.)\n",
      "3 tensor(30.)\n",
      "4 tensor(29.)\n",
      "5 tensor(28.)\n",
      "6 tensor(30.)\n",
      "7 tensor(30.)\n",
      "8 tensor(29.)\n",
      "9 tensor(30.)\n",
      "10 tensor(29.)\n",
      "11 tensor(30.)\n",
      "12 tensor(30.)\n",
      "13 tensor(30.)\n",
      "14 tensor(30.)\n",
      "15 tensor(30.)\n",
      "16 tensor(28.)\n",
      "17 tensor(29.)\n",
      "18 tensor(30.)\n",
      "19 tensor(28.)\n",
      "20 tensor(30.)\n",
      "21 tensor(30.)\n",
      "22 tensor(30.)\n",
      "23 tensor(30.)\n",
      "24 tensor(30.)\n",
      "25 tensor(28.)\n",
      "26 tensor(30.)\n",
      "27 tensor(30.)\n",
      "28 tensor(30.)\n",
      "29 tensor(30.)\n",
      "30 tensor(30.)\n",
      "31 tensor(30.)\n",
      "32 tensor(30.)\n",
      "33 tensor(30.)\n",
      "34 tensor(28.)\n",
      "35 tensor(30.)\n",
      "36 tensor(30.)\n",
      "37 tensor(30.)\n",
      "38 tensor(29.)\n",
      "39 tensor(29.)\n",
      "40 tensor(29.)\n",
      "41 tensor(30.)\n",
      "42 tensor(29.)\n",
      "43 tensor(30.)\n",
      "44 tensor(30.)\n",
      "45 tensor(30.)\n",
      "46 tensor(29.)\n",
      "47 tensor(30.)\n",
      "48 tensor(28.)\n",
      "49 tensor(29.)\n",
      "50 tensor(29.)\n",
      "51 tensor(30.)\n",
      "52 tensor(29.)\n",
      "53 tensor(30.)\n",
      "54 tensor(30.)\n",
      "55 tensor(29.)\n",
      "56 tensor(30.)\n",
      "1685 / 1710 = 0.9853801169590644\n",
      "0.9853801169590644\n"
     ]
    },
    {
     "data": {
      "image/png": "[encoded data removed]",
      "text/plain": [
       "<Figure size 640x480 with 3 Axes>"
      ]
     },
     "metadata": {},
     "output_type": "display_data"
    }
   ],
   "source": [
    "from United_model import *\n",
    "# from Metric_learning_local import *\n",
    "from FingerPrint_1_quick import *\n",
    "from 指纹分类结果_并行版_s1 import *\n",
    "# kansas bcg1 11-12\n",
    "\n",
    "Pathlist = [\n",
    "    '/root/zqh/NewDataSet/BCG_ZQH2.pt',\n",
    "    '/root/zqh/NewDataSet/BCG_QJF1.pt',\n",
    "    '/root/zqh/NewDataSet/BCG_WCM1.pt',\n",
    "    '/root/zqh/NewDataSet/New_data_pa1.pt',\n",
    "    '/root/zqh/NewDataSet/New_data_pa2.pt',\n",
    "    '/root/zqh/NewDataSet/New_data_pa3.pt',\n",
    "    '/root/zqh/NewDataSet/New_data_pa5.pt',\n",
    "    '/root/zqh/NewDataSet/New_data_pa6.pt',\n",
    "    '/root/zqh/NewDataSet/New_data_pa7.pt',\n",
    "    '/root/zqh/NewDataSet/New_data_pa8.pt',\n",
    "    '/root/zqh/NewDataSet/New_data_pa9.pt',\n",
    "    '/root/zqh/NewDataSet/New_data_pa10.pt',\n",
    "    '/root/zqh/NewDataSet/New_data_pa11.pt', # poor\n",
    "    '/root/zqh/NewDataSet/New_data_pa12.pt',\n",
    "    '/root/zqh/NewDataSet/New_data_pa13.pt', # poor\n",
    "    '/root/zqh/NewDataSet/New_data_pa14.pt',\n",
    "    '/root/zqh/NewDataSet/New_data_pa15.pt', # poor\n",
    "    '/root/zqh/NewDataSet/New_data_pa16.pt', # poor\n",
    "    '/root/zqh/NewDataSet/New_data_pa17.pt',\n",
    "    '/root/zqh/NewDataSet/New_data_pa18.pt',\n",
    "    '/root/zqh/NewDataSet/New_data_pa19.pt',\n",
    "    '/root/zqh/NewDataSet/New_data_pa20.pt',\n",
    "    '/root/zqh/NewDataSet/New_data_pa21.pt',\n",
    "    '/root/zqh/NewDataSet/New_data_pa22.pt',\n",
    "    '/root/zqh/NewDataSet/New_data_pa23.pt',\n",
    "    '/root/zqh/NewDataSet/New_data_pa24.pt', # poor\n",
    "    '/root/zqh/NewDataSet/New_data_pa25.pt',\n",
    "    '/root/zqh/NewDataSet/New_data_pa26.pt',\n",
    "    '/root/zqh/NewDataSet/New_data_pa27.pt',\n",
    "    '/root/zqh/NewDataSet/New_data_pa28.pt',\n",
    "    '/root/zqh/NewDataSet/New_data_pa29.pt',\n",
    "    '/root/zqh/NewDataSet/New_data_pa30.pt', # poor\n",
    "    '/root/zqh/NewDataSet/New_data_pa31.pt',\n",
    "    '/root/zqh/NewDataSet/New_data_pa32.pt', # poor\n",
    "    '/root/zqh/NewDataSet/New_data_pa33.pt',\n",
    "    '/root/zqh/NewDataSet/New_data_pa34.pt',\n",
    "    '/root/zqh/NewDataSet/New_data_pa35.pt',\n",
    "    '/root/zqh/NewDataSet/New_data_pa36.pt',\n",
    "    '/root/zqh/NewDataSet/New_data_pa37.pt',\n",
    "    '/root/zqh/NewDataSet/New_data_pa38.pt',\n",
    "    '/root/zqh/NewDataSet/New_data_pa39.pt',\n",
    "    '/root/zqh/NewDataSet/New_data_pa40.pt',\n",
    "    '/root/zqh/BCGDataSet/modify_extract_Single_resolution_caoan615.pt',\n",
    "    '/root/zqh/BCGDataSet/modify_extract_Single_resolution_dj613.pt',\n",
    "    '/root/zqh/BCGDataSet/modify_extract_Single_resolution_dxt613.pt',\n",
    "    '/root/zqh/BCGDataSet/modify_extract_Single_resolution_ltm613.pt',\n",
    "    '/root/zqh/BCGDataSet/modify_extract_Single_resolution_qjf612.pt',\n",
    "    '/root/zqh/BCGDataSet/modify_extract_Single_resolution_rrx613.pt',\n",
    "    '/root/zqh/BCGDataSet/modify_extract_Single_resolution_sample1.pt',\n",
    "    '/root/zqh/BCGDataSet/modify_extract_Single_resolution_sjj612.pt',\n",
    "    '/root/zqh/BCGDataSet/modify_extract_Single_resolution_tt612.pt',\n",
    "    '/root/zqh/BCGDataSet/modify_extract_Single_resolution_wcm612.pt',\n",
    "    '/root/zqh/BCGDataSet/modify_extract_Single_resolution_wg613.pt',\n",
    "    '/root/zqh/BCGDataSet/modify_extract_Single_resolution_whd612.pt',\n",
    "    '/root/zqh/BCGDataSet/modify_extract_Single_resolution_wxy.pt',\n",
    "    '/root/zqh/BCGDataSet/modify_extract_Single_resolution_zj612.pt',\n",
    "    # '/root/zqh/BCGDataSet/modify_extract_Single_resolution_zqh1.pt',\n",
    "    '/root/zqh/BCGDataSet/modify_extract_Single_resolution_zzp612.pt',\n",
    "    \n",
    "]\n",
    "run_United_model(3000, Pathlist)\n",
    "run_Metric_Model(1000, Pathlist)\n",
    "run_FingerPrint( 1000, Pathlist)\n",
    "run_quick_test_ans(Pathlist)"
   ]
  }
 ],
 "metadata": {
  "kernelspec": {
   "display_name": "Python 3 (ipykernel)",
   "language": "python",
   "name": "python3"
  },
  "language_info": {
   "codemirror_mode": {
    "name": "ipython",
    "version": 3
   },
   "file_extension": ".py",
   "mimetype": "text/x-python",
   "name": "python",
   "nbconvert_exporter": "python",
   "pygments_lexer": "ipython3",
   "version": "3.8.10"
  }
 },
 "nbformat": 4,
 "nbformat_minor": 5
}
