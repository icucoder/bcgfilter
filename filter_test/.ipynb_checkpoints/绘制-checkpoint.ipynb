{
 "cells": [
  {
   "cell_type": "code",
   "execution_count": null,
   "id": "7844eda9-7cb5-4dcd-801e-38370fb511ca",
   "metadata": {
    "tags": []
   },
   "outputs": [],
   "source": [
    "import torch\n",
    "import matplotlib.pylab as plt\n",
    "import pandas as pd\n",
    "import numpy as np\n",
    "from Toolkit import *\n",
    "\n",
    "data = torch.load('/root/zqh/BCGDataSet/modify_extract_Single_resolution_caoan615.pt')\n",
    "print(data.shape)\n",
    "for i in range(30):\n",
    "    plt.plot(data[i][0].detach().numpy())\n",
    "plt.show()"
   ]
  }
 ],
 "metadata": {
  "kernelspec": {
   "display_name": "Python 3 (ipykernel)",
   "language": "python",
   "name": "python3"
  },
  "language_info": {
   "codemirror_mode": {
    "name": "ipython",
    "version": 3
   },
   "file_extension": ".py",
   "mimetype": "text/x-python",
   "name": "python",
   "nbconvert_exporter": "python",
   "pygments_lexer": "ipython3",
   "version": "3.8.10"
  }
 },
 "nbformat": 4,
 "nbformat_minor": 5
}
