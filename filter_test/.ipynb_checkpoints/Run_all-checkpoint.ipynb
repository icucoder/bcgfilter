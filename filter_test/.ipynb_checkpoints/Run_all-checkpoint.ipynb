{
 "cells": [
  {
   "cell_type": "code",
   "execution_count": 1,
   "id": "de4f3a1e-37b5-4471-859a-29952c61491a",
   "metadata": {
    "tags": []
   },
   "outputs": [
    {
     "name": "stdout",
     "output_type": "stream",
     "text": [
      "检索完成！\n"
     ]
    }
   ],
   "source": [
    "from United_model import *\n",
    "from Metric_learning_local import *\n",
    "from FingerPrint_5_quick import *\n",
    "from 指纹分类结果_并行版 import *\n",
    "\n",
    "\n",
    "run_United_model(750)\n",
    "# run_Metric_Model(500)\n",
    "# run_FingerPrint(700)\n",
    "# run_quick_test_ans()"
   ]
  }
 ],
 "metadata": {
  "kernelspec": {
   "display_name": "Python 3 (ipykernel)",
   "language": "python",
   "name": "python3"
  },
  "language_info": {
   "codemirror_mode": {
    "name": "ipython",
    "version": 3
   },
   "file_extension": ".py",
   "mimetype": "text/x-python",
   "name": "python",
   "nbconvert_exporter": "python",
   "pygments_lexer": "ipython3",
   "version": "3.8.10"
  }
 },
 "nbformat": 4,
 "nbformat_minor": 5
}
