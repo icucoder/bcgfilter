{
 "cells": [
  {
   "cell_type": "code",
   "execution_count": 1,
   "id": "91c90a56-cce7-4873-9bbf-8c61b73d84d6",
   "metadata": {
    "tags": []
   },
   "outputs": [
    {
     "name": "stdout",
     "output_type": "stream",
     "text": [
      "tensor([[[ 0.1893,  0.3348,  0.7689,  ...,  0.4747,  0.6640,  0.3520]],\n",
      "\n",
      "        [[-0.0497,  0.4849,  0.5216,  ...,  0.4078,  0.5721,  0.0803]],\n",
      "\n",
      "        [[ 0.1893,  0.3348,  0.7689,  ...,  0.4747,  0.6640,  0.3520]],\n",
      "\n",
      "        [[-0.0497,  0.4849,  0.5216,  ...,  0.4078,  0.5721,  0.0803]]],\n",
      "       device='cuda:0', grad_fn=<ViewBackward0>)\n",
      "tensor([[[ 0.6135, -0.0915, -0.1026,  ...,  0.2861,  0.1506, -0.6389]],\n",
      "\n",
      "        [[ 0.4788, -0.4727,  0.3109,  ..., -0.0194,  0.0056, -0.7257]],\n",
      "\n",
      "        [[ 0.6135, -0.0915, -0.1026,  ...,  0.2861,  0.1506, -0.6389]],\n",
      "\n",
      "        [[ 0.4788, -0.4727,  0.3109,  ..., -0.0194,  0.0056, -0.7257]]],\n",
      "       device='cuda:0', grad_fn=<ViewBackward0>)\n",
      "torch.Size([4, 600])\n",
      "tensor([[-0.0350, -0.0145, -0.0043,  ...,  0.0258,  0.0041,  0.0005],\n",
      "        [-0.0350, -0.0145, -0.0044,  ...,  0.0258,  0.0041,  0.0005],\n",
      "        [-0.0350, -0.0145, -0.0043,  ...,  0.0258,  0.0041,  0.0005],\n",
      "        [-0.0350, -0.0145, -0.0044,  ...,  0.0258,  0.0041,  0.0005]],\n",
      "       device='cuda:0', grad_fn=<MmBackward0>)\n"
     ]
    }
   ],
   "source": [
    "from FingerPrint_5_quick import *\n",
    "from United_model import *\n",
    "torch.manual_seed(10)\n",
    "\n",
    "data = torch.ones(1,1,300).cuda() # 0.18925 0.6135 -308\n",
    "data2 = 2*torch.ones(1,1,300).cuda()\n",
    "data = torch.cat([data,data2,data,data2],dim=0).cuda()\n",
    "# model = SelfAttention(6,50).cuda()\n",
    "model = United_Model(seq_length=6, elementlength=50).cuda()\n",
    "ans1, ans2, ans3 = model(data)\n",
    "print(ans1)\n",
    "print(ans2)\n",
    "# model2 = Transformer_Encoder(\n",
    "#     input_data_dim=300,\n",
    "#     batches=5,\n",
    "#     each_batch_dim=60,\n",
    "#     feed_forward_hidden_dim=20,\n",
    "# ).cuda()\n",
    "print(ans3.shape)\n",
    "model2 = Metric_Model(ans3.shape[-1]).cuda()\n",
    "ans4 = model2(ans3.unsqueeze(1))\n",
    "print(ans4)"
   ]
  }
 ],
 "metadata": {
  "kernelspec": {
   "display_name": "Python 3 (ipykernel)",
   "language": "python",
   "name": "python3"
  },
  "language_info": {
   "codemirror_mode": {
    "name": "ipython",
    "version": 3
   },
   "file_extension": ".py",
   "mimetype": "text/x-python",
   "name": "python",
   "nbconvert_exporter": "python",
   "pygments_lexer": "ipython3",
   "version": "3.8.10"
  }
 },
 "nbformat": 4,
 "nbformat_minor": 5
}
