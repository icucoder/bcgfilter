{
 "cells": [
  {
   "cell_type": "code",
   "execution_count": null,
   "id": "e5c6f1cf-dca7-47ac-9aa5-7712fef7cae4",
   "metadata": {},
   "outputs": [],
   "source": [
    "from sklearn.neighbors import KNeighborsClassifier\n",
    "from sklearn.model_selection import train_test_split\n",
    "from sklearn.metrics import accuracy_score\n",
    "from Toolkit import *\n",
    "import sys  \n",
    "sys.path.append('/root/zqh/filter_test')\n",
    "from FingerPrint_5_quick import *\n",
    "from United_model import *\n",
    "arraylist = np.array([0.9754386, 0.97017544,0.97192982,0.97017544,0.97368421,0.97368421,\n",
    "                      0.97368421,0.97368421,0.97368421,0.9754386, 0.97368421,0.9754386,\n",
    "                      0.97368421,0.97368421,0.9754386, 0.97368421,0.97192982,0.97368421,\n",
    "                      0.97192982,0.97368421,])\n",
    "ourans = np.array([0.9874, 0.9947, 0.9964, 1.0, 1.0,\n",
    "                   1.0, 1.0, 1.0, 1.0, 1.0,\n",
    "                   1.0, 1.0, 1.0, 1.0, 1.0,\n",
    "                   1.0, 1.0, 1.0, 1.0, 1.0,])\n",
    "import matplotlib.pyplot as plt\n",
    "plt.style.use('seaborn')\n",
    "plt.figure(figsize=(8, 6), dpi=100)\n",
    "x = torch.arange(1, k_range)\n",
    "plt.plot(x.numpy(), arraylist)\n",
    "plt.plot(x.numpy(), ourans)\n",
    "plt.ylim(0.95, 1.02)\n",
    "plt.xlabel('k', fontsize=20)\n",
    "plt.ylabel('ACC', fontsize=20)\n",
    "plt.show()"
   ]
  }
 ],
 "metadata": {
  "kernelspec": {
   "display_name": "Python 3 (ipykernel)",
   "language": "python",
   "name": "python3"
  },
  "language_info": {
   "codemirror_mode": {
    "name": "ipython",
    "version": 3
   },
   "file_extension": ".py",
   "mimetype": "text/x-python",
   "name": "python",
   "nbconvert_exporter": "python",
   "pygments_lexer": "ipython3",
   "version": "3.8.10"
  }
 },
 "nbformat": 4,
 "nbformat_minor": 5
}
