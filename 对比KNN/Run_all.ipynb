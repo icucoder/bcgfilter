{
 "cells": [
  {
   "cell_type": "code",
   "execution_count": 1,
   "id": "de4f3a1e-37b5-4471-859a-29952c61491a",
   "metadata": {
    "tags": []
   },
   "outputs": [
    {
     "name": "stdout",
     "output_type": "stream",
     "text": [
      "--------------掩码+对比学习-------------------\n"
     ]
    },
    {
     "name": "stderr",
     "output_type": "stream",
     "text": [
      "100%|██████████| 1000/1000 [00:46<00:00, 21.62it/s]\n"
     ]
    },
    {
     "name": "stdout",
     "output_type": "stream",
     "text": [
      "torch.Size([120, 1, 600])\n",
      "torch.Size([120, 1, 300])\n",
      "torch.Size([120, 600])\n",
      "--------------度量学习-------------------\n",
      "features shape : torch.Size([80, 600])\n"
     ]
    },
    {
     "name": "stderr",
     "output_type": "stream",
     "text": [
      "100%|██████████| 600/600 [00:27<00:00, 22.18it/s]\n"
     ]
    },
    {
     "name": "stdout",
     "output_type": "stream",
     "text": [
      "模型保存成功！\n",
      "度量学习结果形状： torch.Size([80, 600])\n",
      "--------------指纹识别-------------------\n"
     ]
    },
    {
     "name": "stderr",
     "output_type": "stream",
     "text": [
      "100%|██████████| 700/700 [00:03<00:00, 225.96it/s]\n"
     ]
    },
    {
     "name": "stdout",
     "output_type": "stream",
     "text": [
      "模型保存成功！\n",
      "80 / 80\n",
      "tensor([20., 20., 20., 20.])\n",
      "测试集结果：\n",
      "ans.shape= torch.Size([40, 4])\n",
      "模型读取成功！\n",
      "0 tensor(10.)\n",
      "1 tensor(10.)\n",
      "2 tensor(10.)\n",
      "3 tensor(10.)\n",
      "40 / 40 = 1.0\n",
      "1.0\n"
     ]
    },
    {
     "data": {
      "image/png": "[encoded data removed]",
      "text/plain": [
       "<Figure size 640x480 with 3 Axes>"
      ]
     },
     "metadata": {},
     "output_type": "display_data"
    }
   ],
   "source": [
    "from United_model import *\n",
    "# from Metric_learning_local import *\n",
    "from FingerPrint_5_quick import *\n",
    "from 指纹分类结果_并行版_s2 import *\n",
    "# kansas bcg1 11-12\n",
    "\n",
    "Pathlist = [\n",
    "    '/root/zqh/NewDataSet/BCG_ZQH2.pt',\n",
    "    '/root/zqh/NewDataSet/BCG_QJF1.pt',\n",
    "    '/root/zqh/NewDataSet/BCG_WCM1.pt',\n",
    "    '/root/zqh/NewDataSet/BCG_hy_ch2.pt',\n",
    "    # '/root/zqh/NewDataSet/New_data_pa1.pt',\n",
    "    # '/root/zqh/NewDataSet/New_data_pa2.pt',\n",
    "    # '/root/zqh/NewDataSet/New_data_pa3.pt',\n",
    "    # '/root/zqh/NewDataSet/New_data_pa5.pt',\n",
    "    # '/root/zqh/NewDataSet/New_data_pa6.pt',\n",
    "    # '/root/zqh/NewDataSet/New_data_pa7.pt',\n",
    "    # '/root/zqh/NewDataSet/New_data_pa8.pt',\n",
    "    # '/root/zqh/NewDataSet/New_data_pa9.pt',\n",
    "    # '/root/zqh/NewDataSet/New_data_pa10.pt',\n",
    "    # '/root/zqh/NewDataSet/New_data_pa11.pt', # poor\n",
    "    # '/root/zqh/NewDataSet/New_data_pa12.pt',\n",
    "    # '/root/zqh/NewDataSet/New_data_pa13.pt', # poor\n",
    "    # '/root/zqh/NewDataSet/New_data_pa14.pt',\n",
    "    # '/root/zqh/NewDataSet/New_data_pa15.pt', # poor\n",
    "    # '/root/zqh/NewDataSet/New_data_pa16.pt', # poor\n",
    "    # '/root/zqh/NewDataSet/New_data_pa17.pt',\n",
    "    # '/root/zqh/NewDataSet/New_data_pa18.pt',\n",
    "    # '/root/zqh/NewDataSet/New_data_pa19.pt',\n",
    "    # '/root/zqh/NewDataSet/New_data_pa20.pt',\n",
    "    # '/root/zqh/NewDataSet/New_data_pa21.pt',\n",
    "    # '/root/zqh/NewDataSet/New_data_pa22.pt',\n",
    "    # '/root/zqh/NewDataSet/New_data_pa23.pt',\n",
    "    # '/root/zqh/NewDataSet/New_data_pa24.pt', # poor\n",
    "    # '/root/zqh/NewDataSet/New_data_pa25.pt',\n",
    "    # '/root/zqh/NewDataSet/New_data_pa26.pt',\n",
    "    # '/root/zqh/NewDataSet/New_data_pa27.pt',\n",
    "    # '/root/zqh/NewDataSet/New_data_pa28.pt',\n",
    "    # '/root/zqh/NewDataSet/New_data_pa29.pt',\n",
    "    # '/root/zqh/NewDataSet/New_data_pa30.pt', # poor\n",
    "    # '/root/zqh/NewDataSet/New_data_pa31.pt',\n",
    "    # '/root/zqh/NewDataSet/New_data_pa32.pt', # poor\n",
    "    # '/root/zqh/NewDataSet/New_data_pa33.pt',\n",
    "    # '/root/zqh/NewDataSet/New_data_pa34.pt',\n",
    "    # '/root/zqh/NewDataSet/New_data_pa35.pt',\n",
    "    # '/root/zqh/NewDataSet/New_data_pa36.pt',\n",
    "    # '/root/zqh/NewDataSet/New_data_pa37.pt',\n",
    "    # '/root/zqh/NewDataSet/New_data_pa38.pt',\n",
    "    # '/root/zqh/NewDataSet/New_data_pa39.pt',\n",
    "    # '/root/zqh/NewDataSet/New_data_pa40.pt',\n",
    "    # '/root/zqh/BCGDataSet/modify_extract_Single_resolution_caoan615.pt',\n",
    "    # '/root/zqh/BCGDataSet/modify_extract_Single_resolution_dj613.pt',\n",
    "    # '/root/zqh/BCGDataSet/modify_extract_Single_resolution_dxt613.pt',\n",
    "    # '/root/zqh/BCGDataSet/modify_extract_Single_resolution_ltm613.pt',\n",
    "    # '/root/zqh/BCGDataSet/modify_extract_Single_resolution_qjf612.pt',\n",
    "    # '/root/zqh/BCGDataSet/modify_extract_Single_resolution_rrx613.pt',\n",
    "    # '/root/zqh/BCGDataSet/modify_extract_Single_resolution_sample1.pt',\n",
    "    # '/root/zqh/BCGDataSet/modify_extract_Single_resolution_sjj612.pt',\n",
    "    # '/root/zqh/BCGDataSet/modify_extract_Single_resolution_tt612.pt',\n",
    "    # '/root/zqh/BCGDataSet/modify_extract_Single_resolution_wcm612.pt',\n",
    "    # '/root/zqh/BCGDataSet/modify_extract_Single_resolution_wg613.pt',\n",
    "    # '/root/zqh/BCGDataSet/modify_extract_Single_resolution_whd612.pt',\n",
    "    # '/root/zqh/BCGDataSet/modify_extract_Single_resolution_wxy.pt',\n",
    "    # '/root/zqh/BCGDataSet/modify_extract_Single_resolution_zj612.pt',\n",
    "    # '/root/zqh/BCGDataSet/modify_extract_Single_resolution_zqh1.pt',\n",
    "    # '/root/zqh/BCGDataSet/modify_extract_Single_resolution_zzp612.pt',\n",
    "    \n",
    "]\n",
    "run_United_model(1000, Pathlist)\n",
    "run_Metric_Model(600, Pathlist)\n",
    "batches = 1\n",
    "run_FingerPrint( 700, Pathlist, batches=batches)\n",
    "run_quick_test_ans(Pathlist, batches=batches)\n",
    "# 1 0.9842\n",
    "# 2 0.9947\n",
    "# 3 0.9964\n",
    "# 4 1.0\n",
    "# 5 1.0"
   ]
  }
 ],
 "metadata": {
  "kernelspec": {
   "display_name": "Python 3 (ipykernel)",
   "language": "python",
   "name": "python3"
  },
  "language_info": {
   "codemirror_mode": {
    "name": "ipython",
    "version": 3
   },
   "file_extension": ".py",
   "mimetype": "text/x-python",
   "name": "python",
   "nbconvert_exporter": "python",
   "pygments_lexer": "ipython3",
   "version": "3.8.10"
  }
 },
 "nbformat": 4,
 "nbformat_minor": 5
}
