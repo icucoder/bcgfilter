{
 "cells": [
  {
   "cell_type": "code",
   "execution_count": 1,
   "id": "91c90a56-cce7-4873-9bbf-8c61b73d84d6",
   "metadata": {
    "tags": []
   },
   "outputs": [
    {
     "name": "stdout",
     "output_type": "stream",
     "text": [
      "torch.Size([4, 1, 120])\n",
      "torch.Size([4, 1, 120])\n",
      "torch.Size([4, 1, 240])\n",
      "torch.Size([4, 1, 120])\n",
      "torch.Size([4, 1, 360])\n",
      "torch.Size([4, 1, 120])\n",
      "torch.Size([4, 1, 480])\n",
      "torch.Size([4, 1, 120])\n",
      "torch.Size([4, 1, 600])\n",
      "torch.Size([4, 1, 120])\n",
      "tensor([[[-0.7035, -0.2404,  0.0166,  ...,  1.2135, -0.1082,  0.5012]],\n",
      "\n",
      "        [[-1.3234, -0.4250,  0.0855,  ...,  2.3815, -0.2579,  1.0322]],\n",
      "\n",
      "        [[-0.7035, -0.2404,  0.0166,  ...,  1.2135, -0.1082,  0.5012]],\n",
      "\n",
      "        [[-1.3234, -0.4250,  0.0855,  ...,  2.3815, -0.2579,  1.0322]]],\n",
      "       device='cuda:0', grad_fn=<AddBackward0>)\n"
     ]
    }
   ],
   "source": [
    "from FingerPrint_1_quick import *\n",
    "from United_model import *\n",
    "torch.manual_seed(10)\n",
    "\n",
    "data = torch.ones(1,1,600).cuda() # 0.18925 0.6135  0.1765 0.1308\n",
    "data2 = 2*torch.ones(1,1,600).cuda()\n",
    "data = torch.cat([data,data2,data,data2],dim=0).cuda()\n",
    "# model = SelfAttention(6,50).cuda()\n",
    "# model = United_Model(seq_length=6, elementlength=50).cuda()\n",
    "# ans1, ans2, ans3 = model(data)\n",
    "# print(ans1)\n",
    "# print(ans2)\n",
    "# print(ans3)\n",
    "# model2 = Transformer_Encoder(\n",
    "#     input_data_dim=300,\n",
    "#     batches=5,\n",
    "#     each_batch_dim=60,\n",
    "#     feed_forward_hidden_dim=20,\n",
    "# ).cuda()\n",
    "# print(ans3.shape)\n",
    "# model2 = Metric_Model(ans3.shape[-1]).cuda()\n",
    "model2 = Transformer_Encoder(\n",
    "    input_data_dim=600,\n",
    "    batches=5,\n",
    "    each_batch_dim=int(600/5),\n",
    "    feed_forward_hidden_dim=20,\n",
    ").cuda()\n",
    "ans4 = model2(data) # 7035\n",
    "print(ans4)"
   ]
  }
 ],
 "metadata": {
  "kernelspec": {
   "display_name": "Python 3 (ipykernel)",
   "language": "python",
   "name": "python3"
  },
  "language_info": {
   "codemirror_mode": {
    "name": "ipython",
    "version": 3
   },
   "file_extension": ".py",
   "mimetype": "text/x-python",
   "name": "python",
   "nbconvert_exporter": "python",
   "pygments_lexer": "ipython3",
   "version": "3.8.10"
  }
 },
 "nbformat": 4,
 "nbformat_minor": 5
}
