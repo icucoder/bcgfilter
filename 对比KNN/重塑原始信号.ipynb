{
 "cells": [
  {
   "cell_type": "code",
   "execution_count": null,
   "id": "7b2b7a4b-7e40-43fa-adfc-66a2d75e2e08",
   "metadata": {
    "tags": []
   },
   "outputs": [],
   "source": [
    "import torch\n",
    "Path = [\n",
    "    '/root/zqh/BCGDataSet/modify_extract_Single_resolution_caoan615.pt',\n",
    "    '/root/zqh/BCGDataSet/modify_extract_Single_resolution_dj613.pt',\n",
    "    '/root/zqh/BCGDataSet/modify_extract_Single_resolution_dxt613.pt',\n",
    "    '/root/zqh/BCGDataSet/modify_extract_Single_resolution_ltm613.pt',\n",
    "    '/root/zqh/BCGDataSet/modify_extract_Single_resolution_qjf612.pt',\n",
    "    '/root/zqh/BCGDataSet/modify_extract_Single_resolution_rrx613.pt',\n",
    "    '/root/zqh/BCGDataSet/modify_extract_Single_resolution_sample1.pt',\n",
    "    '/root/zqh/BCGDataSet/modify_extract_Single_resolution_sjj612.pt',\n",
    "    '/root/zqh/BCGDataSet/modify_extract_Single_resolution_tt612.pt',\n",
    "    '/root/zqh/BCGDataSet/modify_extract_Single_resolution_wcm612.pt',\n",
    "    '/root/zqh/BCGDataSet/modify_extract_Single_resolution_wg613.pt',\n",
    "    '/root/zqh/BCGDataSet/modify_extract_Single_resolution_whd612.pt',\n",
    "    '/root/zqh/BCGDataSet/modify_extract_Single_resolution_wxy.pt',\n",
    "    # '/root/zqh/BCGDataSet/modify_extract_Single_resolution_yph612.pt',\n",
    "    '/root/zqh/BCGDataSet/modify_extract_Single_resolution_zj612.pt',\n",
    "    '/root/zqh/BCGDataSet/modify_extract_Single_resolution_zqh1.pt',\n",
    "    '/root/zqh/BCGDataSet/modify_extract_Single_resolution_zqh2.pt',\n",
    "    '/root/zqh/BCGDataSet/modify_extract_Single_resolution_zzp612.pt',\n",
    "]\n",
    "for i in range(len(Path)):\n",
    "    data = torch.load(Path[i])\n",
    "    # data = data[:30,:,300:600]\n",
    "    print(data.shape)\n",
    "    # torch.save(data,Path[i])\n"
   ]
  }
 ],
 "metadata": {
  "kernelspec": {
   "display_name": "Python 3 (ipykernel)",
   "language": "python",
   "name": "python3"
  },
  "language_info": {
   "codemirror_mode": {
    "name": "ipython",
    "version": 3
   },
   "file_extension": ".py",
   "mimetype": "text/x-python",
   "name": "python",
   "nbconvert_exporter": "python",
   "pygments_lexer": "ipython3",
   "version": "3.8.10"
  }
 },
 "nbformat": 4,
 "nbformat_minor": 5
}
